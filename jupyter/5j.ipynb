{
 "cells": [
  {
   "cell_type": "code",
   "execution_count": 7,
   "id": "5e9cdfed-60d3-487e-a7e2-26879fe50f35",
   "metadata": {},
   "outputs": [
    {
     "data": {
      "text/plain": [
       "6"
      ]
     },
     "execution_count": 7,
     "metadata": {},
     "output_type": "execute_result"
    }
   ],
   "source": [
    "l={'N','E','P','A','L',2079}\n",
    "len(l)"
   ]
  },
  {
   "cell_type": "code",
   "execution_count": 14,
   "id": "568b5dce-95da-4107-9110-a07d97dc08d3",
   "metadata": {
    "tags": []
   },
   "outputs": [
    {
     "name": "stdout",
     "output_type": "stream",
     "text": [
      "odd no is--- 1\n",
      "even no is--- 2\n",
      "odd no is--- 3\n",
      "even no is--- 4\n",
      "odd no is--- 5\n",
      "even no is--- 6\n",
      "odd no is--- 7\n",
      "even no is--- 8\n",
      "odd no is--- 9\n",
      "even no is--- 10\n",
      "odd no is--- 11\n",
      "even no is--- 12\n",
      "odd no is--- 13\n",
      "even no is--- 14\n",
      "odd no is--- 15\n",
      "even no is--- 16\n",
      "odd no is--- 17\n",
      "even no is--- 18\n",
      "odd no is--- 19\n",
      "even no is--- 20\n",
      "odd no is--- 21\n",
      "even no is--- 22\n",
      "odd no is--- 23\n",
      "even no is--- 24\n",
      "odd no is--- 25\n",
      "even no is--- 26\n",
      "odd no is--- 27\n",
      "even no is--- 28\n",
      "odd no is--- 29\n",
      "even no is--- 30\n",
      "odd no is--- 31\n",
      "even no is--- 32\n",
      "odd no is--- 33\n",
      "even no is--- 34\n",
      "odd no is--- 35\n",
      "even no is--- 36\n",
      "odd no is--- 37\n",
      "even no is--- 38\n",
      "odd no is--- 39\n",
      "even no is--- 40\n",
      "odd no is--- 41\n",
      "even no is--- 42\n",
      "odd no is--- 43\n",
      "even no is--- 44\n",
      "odd no is--- 45\n",
      "even no is--- 46\n",
      "odd no is--- 47\n",
      "even no is--- 48\n",
      "odd no is--- 49\n",
      "even no is--- 50\n",
      "odd no is--- 51\n",
      "even no is--- 52\n",
      "odd no is--- 53\n",
      "even no is--- 54\n",
      "odd no is--- 55\n",
      "even no is--- 56\n",
      "odd no is--- 57\n",
      "even no is--- 58\n",
      "odd no is--- 59\n",
      "even no is--- 60\n",
      "odd no is--- 61\n",
      "even no is--- 62\n",
      "odd no is--- 63\n",
      "even no is--- 64\n",
      "odd no is--- 65\n",
      "even no is--- 66\n",
      "odd no is--- 67\n",
      "even no is--- 68\n",
      "odd no is--- 69\n",
      "even no is--- 70\n",
      "odd no is--- 71\n",
      "even no is--- 72\n",
      "odd no is--- 73\n",
      "even no is--- 74\n",
      "odd no is--- 75\n",
      "even no is--- 76\n",
      "odd no is--- 77\n",
      "even no is--- 78\n",
      "odd no is--- 79\n",
      "even no is--- 80\n",
      "odd no is--- 81\n",
      "even no is--- 82\n",
      "odd no is--- 83\n",
      "even no is--- 84\n",
      "odd no is--- 85\n",
      "even no is--- 86\n",
      "odd no is--- 87\n",
      "even no is--- 88\n",
      "odd no is--- 89\n",
      "even no is--- 90\n",
      "odd no is--- 91\n",
      "even no is--- 92\n",
      "odd no is--- 93\n",
      "even no is--- 94\n",
      "odd no is--- 95\n",
      "even no is--- 96\n",
      "odd no is--- 97\n",
      "even no is--- 98\n",
      "odd no is--- 99\n",
      "even no is--- 100\n"
     ]
    }
   ],
   "source": [
    "for x in range(1,101):\n",
    "    if x%2==0:\n",
    "        print(\"even no is---\",x)\n",
    "    else:\n",
    "        print(\"odd no is---\",x)\n",
    "    "
   ]
  },
  {
   "cell_type": "code",
   "execution_count": null,
   "id": "255186d5-5579-4c70-bdf4-4d2b9450bfa9",
   "metadata": {},
   "outputs": [],
   "source": [
    "for x in range(1,101):\n",
    "    if x%2!=0:\n",
    "        print(\"even no is---\",x)\n",
    "    else:\n",
    "        print(\"odd no is---\",x)"
   ]
  }
 ],
 "metadata": {
  "kernelspec": {
   "display_name": "Python 3 (ipykernel)",
   "language": "python",
   "name": "python3"
  },
  "language_info": {
   "codemirror_mode": {
    "name": "ipython",
    "version": 3
   },
   "file_extension": ".py",
   "mimetype": "text/x-python",
   "name": "python",
   "nbconvert_exporter": "python",
   "pygments_lexer": "ipython3",
   "version": "3.9.13"
  }
 },
 "nbformat": 4,
 "nbformat_minor": 5
}
